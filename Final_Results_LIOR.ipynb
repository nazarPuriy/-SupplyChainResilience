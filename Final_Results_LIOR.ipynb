{
 "cells": [
  {
   "cell_type": "markdown",
   "metadata": {
    "papermill": {
     "duration": 0.004443,
     "end_time": "2022-11-11T08:46:48.019499",
     "exception": false,
     "start_time": "2022-11-11T08:46:48.015056",
     "status": "completed"
    },
    "tags": []
   },
   "source": [
    "# Sarter Notebook"
   ]
  },
  {
   "cell_type": "code",
   "execution_count": 14,
   "metadata": {
    "execution": {
     "iopub.execute_input": "2022-11-11T12:18:57.654968Z",
     "iopub.status.busy": "2022-11-11T12:18:57.653997Z",
     "iopub.status.idle": "2022-11-11T12:18:57.688915Z",
     "shell.execute_reply": "2022-11-11T12:18:57.687095Z",
     "shell.execute_reply.started": "2022-11-11T12:18:57.654825Z"
    },
    "papermill": {
     "duration": 1.688634,
     "end_time": "2022-11-11T08:46:49.712044",
     "exception": false,
     "start_time": "2022-11-11T08:46:48.02341",
     "status": "completed"
    },
    "tags": []
   },
   "outputs": [],
   "source": [
    "import pandas as pd\n",
    "import matplotlib.pyplot as plt\n",
    "import seaborn as sns"
   ]
  },
  {
   "cell_type": "markdown",
   "metadata": {
    "papermill": {
     "duration": 0.003519,
     "end_time": "2022-11-11T08:46:49.719635",
     "exception": false,
     "start_time": "2022-11-11T08:46:49.716116",
     "status": "completed"
    },
    "tags": []
   },
   "source": [
    "## Reading Data"
   ]
  },
  {
   "cell_type": "code",
   "execution_count": 2,
   "metadata": {
    "execution": {
     "iopub.execute_input": "2022-11-11T12:20:21.571998Z",
     "iopub.status.busy": "2022-11-11T12:20:21.570436Z",
     "iopub.status.idle": "2022-11-11T12:20:22.201905Z",
     "shell.execute_reply": "2022-11-11T12:20:22.200276Z",
     "shell.execute_reply.started": "2022-11-11T12:20:21.571943Z"
    },
    "papermill": {
     "duration": 0.383908,
     "end_time": "2022-11-11T08:46:50.10727",
     "exception": false,
     "start_time": "2022-11-11T08:46:49.723362",
     "status": "completed"
    },
    "tags": []
   },
   "outputs": [],
   "source": [
    "# read train data\n",
    "df_orders = pd.read_csv(\"orders.csv\", sep=\";\")\n",
    "df_products = pd.read_csv(\"product_attributes.csv\", sep=\",\")\n",
    "df_dists = pd.read_csv(\"cities_data.csv\", sep=\";\")\n",
    "\n",
    "# read test data\n",
    "df_test = pd.read_csv(\"test.csv\", sep=\";\")"
   ]
  },
  {
   "cell_type": "code",
   "execution_count": 3,
   "outputs": [],
   "source": [
    "def preprocess(df_orders, df_products, df_dists, material_handling=5.0, weight=1200, late_order=True):\n",
    "\n",
    "    #replace inconsistent port names\n",
    "    df_orders.loc[df_orders['origin_port'] == 'ATHENAS', ['origin_port']] = 'Athens'\n",
    "    df_orders.loc[df_orders['origin_port'] == 'BCN', ['origin_port']] = 'Barcelona'\n",
    "    df_orders.loc[df_orders['customer'] == 'ATHENAS', ['customer']] = 'Athens'\n",
    "    df_orders.loc[df_orders['customer'] == 'BCN', ['customer']] = 'Barcelona'\n",
    "    df_orders.loc[df_orders['logistic_hub'] == 'ATHENAS', ['logistic_hub']] = 'Athens'\n",
    "    df_orders.loc[df_orders['logistic_hub'] == 'BCN', ['logistic_hub']] = 'Barcelona'\n",
    "\n",
    "    #add reverse paths and trivial paths to cities\n",
    "    cities_unique_from = df_dists[['city_from_name', 'city_from_coord']].drop_duplicates()\n",
    "    cities_unique_to = cities_unique_from.rename(columns={'city_from_name': 'city_to_name', 'city_from_coord': 'city_to_coord'})\n",
    "    cities_id = pd.concat([cities_unique_from, cities_unique_to], axis=1)\n",
    "    cities_id['distance'] = 0\n",
    "    cities_reverse = df_dists.rename(columns={'city_from_name': 'city_to_name', 'city_from_coord': 'city_to_coord',\n",
    "                                              'city_to_name': 'city_from_name', 'city_to_coord': 'city_from_coord'})\n",
    "    cities_final = pd.concat([cities_id, cities_reverse, df_dists])\n",
    "\n",
    "    #deal with null logistic hubs\n",
    "    df_orders.loc[df_orders['logistic_hub'].isnull(),'logistic_hub'] = df_orders['origin_port']\n",
    "\n",
    "    #finally join cities data\n",
    "    cities_joined_first_trip = pd.merge(df_orders, cities_final, how='left', left_on=['origin_port', 'logistic_hub'], right_on=['city_from_name', 'city_to_name'])\n",
    "\n",
    "    cities_joined_first_trip_renamed = cities_joined_first_trip.rename(columns={'distance': 'distance_1', 'city_to_coord': 'logistic_hub_coord',\n",
    "                                                                                'city_from_coord': 'origin_port_coord'})\n",
    "\n",
    "\n",
    "    cities_joined_second_trip = pd.merge(cities_joined_first_trip_renamed, cities_final,  how='left', left_on=['logistic_hub', 'customer'], right_on=['city_from_name', 'city_to_name'])\n",
    "\n",
    "    cities_joined_second_trip_renamed = cities_joined_second_trip.rename(columns={'distance': 'distance_2', 'city_to_coord': 'customer_coord'})\n",
    "\n",
    "    #join with product data\n",
    "    product_atts_joined = pd.merge(cities_joined_second_trip_renamed, df_products, how='left')\n",
    "\n",
    "    #fill empty cells\n",
    "    product_atts_joined.loc[product_atts_joined['material_handling'].isna(), 'material_handling'] = material_handling\n",
    "    product_atts_joined.loc[product_atts_joined['weight'].isna(), 'weight'] = weight\n",
    "    final = product_atts_joined#.dropna()\n",
    "\n",
    "    assert final.shape[0] == df_orders.shape[0]\n",
    "\n",
    "    columns = ['3pl', 'customs_procedures','material_handling', 'units', 'weight', 'product_id',\n",
    "                                  'origin_port', 'origin_port_coord',\n",
    "                                  'logistic_hub', 'logistic_hub_coord',\n",
    "                                  'customer', 'customer_coord',\n",
    "                                  'distance_1', 'distance_2']\n",
    "    if late_order:\n",
    "        columns.append('late_order')\n",
    "\n",
    "    return final[columns]\n",
    "\n"
   ],
   "metadata": {
    "collapsed": false
   }
  },
  {
   "cell_type": "code",
   "execution_count": 4,
   "outputs": [
    {
     "data": {
      "text/plain": "          3pl customs_procedures  material_handling  units  weight  \\\n0       v_002                DTP                5.0    583  1778.0   \n1       v_004                CRF                3.0    459  1088.0   \n2       v_002                CRF                4.0    464   505.0   \n3       v_004                CRF                4.0    678  1308.0   \n4       v_002                CRF                0.0    353  1465.0   \n...       ...                ...                ...    ...     ...   \n114271  v_002                CRF                3.0    645  1896.0   \n114272  v_004                DTD                1.0    502   746.0   \n114273  v_002                DTP                5.0    464   572.0   \n114274  v_003                DTD                1.0    388  1894.0   \n114275  v_002                DTD                4.0    482  1308.0   \n\n        product_id origin_port         origin_port_coord logistic_hub  \\\n0          1692723   Rotterdam     (51.9244424, 4.47775)        Venlo   \n1          1644308   Rotterdam     (51.9244424, 4.47775)         Rome   \n2          1684170      Athens  (37.9839412, 23.7283052)        Venlo   \n3          1620510   Rotterdam     (51.9244424, 4.47775)        Lille   \n4          1699372   Barcelona   (41.3828939, 2.1774322)        Venlo   \n...            ...         ...                       ...          ...   \n114271     1681376   Rotterdam     (51.9244424, 4.47775)   Dusseldorf   \n114272     1676942   Barcelona   (41.3828939, 2.1774322)   Dusseldorf   \n114273     1692737   Rotterdam     (51.9244424, 4.47775)   Dusseldorf   \n114274     1699974   Barcelona   (41.3828939, 2.1774322)   Dusseldorf   \n114275     1620510   Rotterdam     (51.9244424, 4.47775)        Venlo   \n\n                       logistic_hub_coord   customer  \\\n0       (51.39244885, 6.1511724144122955)  Marseille   \n1                (41.8933203, 12.4829321)  Marseille   \n2       (51.39244885, 6.1511724144122955)      Paris   \n3                 (50.6365654, 3.0635282)      Milan   \n4       (51.39244885, 6.1511724144122955)     Berlin   \n...                                   ...        ...   \n114271            (51.2254018, 6.7763137)   Bordeaux   \n114272            (51.2254018, 6.7763137)     Berlin   \n114273            (51.2254018, 6.7763137)       Rome   \n114274            (51.2254018, 6.7763137)     Munich   \n114275  (51.39244885, 6.1511724144122955)  Bucharest   \n\n                          customer_coord  distance_1  distance_2  late_order  \n0                (43.2961743, 5.3699525)    130.0459    902.0420        True  \n1                (43.2961743, 5.3699525)   1269.2365    604.0216       False  \n2       (48.8588897, 2.3200410217200766)   2029.5726    392.9249        True  \n3                (45.4641943, 9.1896346)    173.9644    733.8784       False  \n4               (52.5170365, 13.3888599)   1153.4178    512.8188       False  \n...                                  ...         ...         ...         ...  \n114271           (44.841225, -0.5800364)    177.3075    896.2065       False  \n114272          (52.5170365, 13.3888599)   1149.4065    477.3717       False  \n114273          (41.8933203, 12.4829321)    177.3075   1125.0290       False  \n114274          (48.1371079, 11.5753822)   1149.4065    487.5926       False  \n114275          (44.4361414, 26.1027202)    130.0459   1672.4754       False  \n\n[114276 rows x 15 columns]",
      "text/html": "<div>\n<style scoped>\n    .dataframe tbody tr th:only-of-type {\n        vertical-align: middle;\n    }\n\n    .dataframe tbody tr th {\n        vertical-align: top;\n    }\n\n    .dataframe thead th {\n        text-align: right;\n    }\n</style>\n<table border=\"1\" class=\"dataframe\">\n  <thead>\n    <tr style=\"text-align: right;\">\n      <th></th>\n      <th>3pl</th>\n      <th>customs_procedures</th>\n      <th>material_handling</th>\n      <th>units</th>\n      <th>weight</th>\n      <th>product_id</th>\n      <th>origin_port</th>\n      <th>origin_port_coord</th>\n      <th>logistic_hub</th>\n      <th>logistic_hub_coord</th>\n      <th>customer</th>\n      <th>customer_coord</th>\n      <th>distance_1</th>\n      <th>distance_2</th>\n      <th>late_order</th>\n    </tr>\n  </thead>\n  <tbody>\n    <tr>\n      <th>0</th>\n      <td>v_002</td>\n      <td>DTP</td>\n      <td>5.0</td>\n      <td>583</td>\n      <td>1778.0</td>\n      <td>1692723</td>\n      <td>Rotterdam</td>\n      <td>(51.9244424, 4.47775)</td>\n      <td>Venlo</td>\n      <td>(51.39244885, 6.1511724144122955)</td>\n      <td>Marseille</td>\n      <td>(43.2961743, 5.3699525)</td>\n      <td>130.0459</td>\n      <td>902.0420</td>\n      <td>True</td>\n    </tr>\n    <tr>\n      <th>1</th>\n      <td>v_004</td>\n      <td>CRF</td>\n      <td>3.0</td>\n      <td>459</td>\n      <td>1088.0</td>\n      <td>1644308</td>\n      <td>Rotterdam</td>\n      <td>(51.9244424, 4.47775)</td>\n      <td>Rome</td>\n      <td>(41.8933203, 12.4829321)</td>\n      <td>Marseille</td>\n      <td>(43.2961743, 5.3699525)</td>\n      <td>1269.2365</td>\n      <td>604.0216</td>\n      <td>False</td>\n    </tr>\n    <tr>\n      <th>2</th>\n      <td>v_002</td>\n      <td>CRF</td>\n      <td>4.0</td>\n      <td>464</td>\n      <td>505.0</td>\n      <td>1684170</td>\n      <td>Athens</td>\n      <td>(37.9839412, 23.7283052)</td>\n      <td>Venlo</td>\n      <td>(51.39244885, 6.1511724144122955)</td>\n      <td>Paris</td>\n      <td>(48.8588897, 2.3200410217200766)</td>\n      <td>2029.5726</td>\n      <td>392.9249</td>\n      <td>True</td>\n    </tr>\n    <tr>\n      <th>3</th>\n      <td>v_004</td>\n      <td>CRF</td>\n      <td>4.0</td>\n      <td>678</td>\n      <td>1308.0</td>\n      <td>1620510</td>\n      <td>Rotterdam</td>\n      <td>(51.9244424, 4.47775)</td>\n      <td>Lille</td>\n      <td>(50.6365654, 3.0635282)</td>\n      <td>Milan</td>\n      <td>(45.4641943, 9.1896346)</td>\n      <td>173.9644</td>\n      <td>733.8784</td>\n      <td>False</td>\n    </tr>\n    <tr>\n      <th>4</th>\n      <td>v_002</td>\n      <td>CRF</td>\n      <td>0.0</td>\n      <td>353</td>\n      <td>1465.0</td>\n      <td>1699372</td>\n      <td>Barcelona</td>\n      <td>(41.3828939, 2.1774322)</td>\n      <td>Venlo</td>\n      <td>(51.39244885, 6.1511724144122955)</td>\n      <td>Berlin</td>\n      <td>(52.5170365, 13.3888599)</td>\n      <td>1153.4178</td>\n      <td>512.8188</td>\n      <td>False</td>\n    </tr>\n    <tr>\n      <th>...</th>\n      <td>...</td>\n      <td>...</td>\n      <td>...</td>\n      <td>...</td>\n      <td>...</td>\n      <td>...</td>\n      <td>...</td>\n      <td>...</td>\n      <td>...</td>\n      <td>...</td>\n      <td>...</td>\n      <td>...</td>\n      <td>...</td>\n      <td>...</td>\n      <td>...</td>\n    </tr>\n    <tr>\n      <th>114271</th>\n      <td>v_002</td>\n      <td>CRF</td>\n      <td>3.0</td>\n      <td>645</td>\n      <td>1896.0</td>\n      <td>1681376</td>\n      <td>Rotterdam</td>\n      <td>(51.9244424, 4.47775)</td>\n      <td>Dusseldorf</td>\n      <td>(51.2254018, 6.7763137)</td>\n      <td>Bordeaux</td>\n      <td>(44.841225, -0.5800364)</td>\n      <td>177.3075</td>\n      <td>896.2065</td>\n      <td>False</td>\n    </tr>\n    <tr>\n      <th>114272</th>\n      <td>v_004</td>\n      <td>DTD</td>\n      <td>1.0</td>\n      <td>502</td>\n      <td>746.0</td>\n      <td>1676942</td>\n      <td>Barcelona</td>\n      <td>(41.3828939, 2.1774322)</td>\n      <td>Dusseldorf</td>\n      <td>(51.2254018, 6.7763137)</td>\n      <td>Berlin</td>\n      <td>(52.5170365, 13.3888599)</td>\n      <td>1149.4065</td>\n      <td>477.3717</td>\n      <td>False</td>\n    </tr>\n    <tr>\n      <th>114273</th>\n      <td>v_002</td>\n      <td>DTP</td>\n      <td>5.0</td>\n      <td>464</td>\n      <td>572.0</td>\n      <td>1692737</td>\n      <td>Rotterdam</td>\n      <td>(51.9244424, 4.47775)</td>\n      <td>Dusseldorf</td>\n      <td>(51.2254018, 6.7763137)</td>\n      <td>Rome</td>\n      <td>(41.8933203, 12.4829321)</td>\n      <td>177.3075</td>\n      <td>1125.0290</td>\n      <td>False</td>\n    </tr>\n    <tr>\n      <th>114274</th>\n      <td>v_003</td>\n      <td>DTD</td>\n      <td>1.0</td>\n      <td>388</td>\n      <td>1894.0</td>\n      <td>1699974</td>\n      <td>Barcelona</td>\n      <td>(41.3828939, 2.1774322)</td>\n      <td>Dusseldorf</td>\n      <td>(51.2254018, 6.7763137)</td>\n      <td>Munich</td>\n      <td>(48.1371079, 11.5753822)</td>\n      <td>1149.4065</td>\n      <td>487.5926</td>\n      <td>False</td>\n    </tr>\n    <tr>\n      <th>114275</th>\n      <td>v_002</td>\n      <td>DTD</td>\n      <td>4.0</td>\n      <td>482</td>\n      <td>1308.0</td>\n      <td>1620510</td>\n      <td>Rotterdam</td>\n      <td>(51.9244424, 4.47775)</td>\n      <td>Venlo</td>\n      <td>(51.39244885, 6.1511724144122955)</td>\n      <td>Bucharest</td>\n      <td>(44.4361414, 26.1027202)</td>\n      <td>130.0459</td>\n      <td>1672.4754</td>\n      <td>False</td>\n    </tr>\n  </tbody>\n</table>\n<p>114276 rows × 15 columns</p>\n</div>"
     },
     "execution_count": 4,
     "metadata": {},
     "output_type": "execute_result"
    }
   ],
   "source": [
    "# get all the training data\n",
    "xy_train = preprocess(df_orders, df_products, df_dists, late_order=True)\n",
    "x_test = preprocess(df_test, df_products, df_dists, late_order=False)\n",
    "\n",
    "y_train = xy_train['late_order']\n",
    "x_train = xy_train.drop('late_order', axis=1)\n",
    "xy_train"
   ],
   "metadata": {
    "collapsed": false
   }
  },
  {
   "cell_type": "code",
   "execution_count": 6,
   "outputs": [
    {
     "name": "stdout",
     "output_type": "stream",
     "text": [
      "0:\tlearn: 0.6517574\ttotal: 577ms\tremaining: 1m 54s\n",
      "1:\tlearn: 0.6184582\ttotal: 822ms\tremaining: 1m 21s\n",
      "2:\tlearn: 0.5935095\ttotal: 888ms\tremaining: 58.3s\n",
      "3:\tlearn: 0.5721981\ttotal: 943ms\tremaining: 46.2s\n",
      "4:\tlearn: 0.5553361\ttotal: 998ms\tremaining: 38.9s\n",
      "5:\tlearn: 0.5415364\ttotal: 1.06s\tremaining: 34.2s\n",
      "6:\tlearn: 0.5295341\ttotal: 1.12s\tremaining: 30.9s\n",
      "7:\tlearn: 0.5149150\ttotal: 1.17s\tremaining: 28s\n",
      "8:\tlearn: 0.5026073\ttotal: 1.22s\tremaining: 25.9s\n",
      "9:\tlearn: 0.4922004\ttotal: 1.27s\tremaining: 24.1s\n",
      "10:\tlearn: 0.4845011\ttotal: 1.32s\tremaining: 22.6s\n",
      "11:\tlearn: 0.4779190\ttotal: 1.37s\tremaining: 21.5s\n",
      "12:\tlearn: 0.4724912\ttotal: 1.42s\tremaining: 20.4s\n",
      "13:\tlearn: 0.4677555\ttotal: 1.47s\tremaining: 19.5s\n",
      "14:\tlearn: 0.4631552\ttotal: 1.53s\tremaining: 18.9s\n",
      "15:\tlearn: 0.4590513\ttotal: 1.58s\tremaining: 18.2s\n",
      "16:\tlearn: 0.4554857\ttotal: 1.62s\tremaining: 17.5s\n",
      "17:\tlearn: 0.4528694\ttotal: 1.67s\tremaining: 16.9s\n",
      "18:\tlearn: 0.4505513\ttotal: 1.72s\tremaining: 16.4s\n",
      "19:\tlearn: 0.4480265\ttotal: 1.76s\tremaining: 15.8s\n",
      "20:\tlearn: 0.4458885\ttotal: 1.8s\tremaining: 15.3s\n",
      "21:\tlearn: 0.4442421\ttotal: 1.84s\tremaining: 14.9s\n",
      "22:\tlearn: 0.4422893\ttotal: 1.88s\tremaining: 14.5s\n",
      "23:\tlearn: 0.4407203\ttotal: 1.93s\tremaining: 14.2s\n",
      "24:\tlearn: 0.4393790\ttotal: 1.98s\tremaining: 13.8s\n",
      "25:\tlearn: 0.4380458\ttotal: 2.02s\tremaining: 13.5s\n",
      "26:\tlearn: 0.4364729\ttotal: 2.08s\tremaining: 13.3s\n",
      "27:\tlearn: 0.4348816\ttotal: 2.12s\tremaining: 13s\n",
      "28:\tlearn: 0.4336629\ttotal: 2.16s\tremaining: 12.8s\n",
      "29:\tlearn: 0.4325379\ttotal: 2.21s\tremaining: 12.6s\n",
      "30:\tlearn: 0.4314547\ttotal: 2.26s\tremaining: 12.3s\n",
      "31:\tlearn: 0.4302526\ttotal: 2.31s\tremaining: 12.1s\n",
      "32:\tlearn: 0.4292708\ttotal: 2.35s\tremaining: 11.9s\n",
      "33:\tlearn: 0.4284268\ttotal: 2.4s\tremaining: 11.7s\n",
      "34:\tlearn: 0.4276981\ttotal: 2.44s\tremaining: 11.5s\n",
      "35:\tlearn: 0.4269032\ttotal: 2.49s\tremaining: 11.4s\n",
      "36:\tlearn: 0.4259738\ttotal: 2.56s\tremaining: 11.3s\n",
      "37:\tlearn: 0.4252174\ttotal: 2.59s\tremaining: 11s\n",
      "38:\tlearn: 0.4244276\ttotal: 2.63s\tremaining: 10.9s\n",
      "39:\tlearn: 0.4238308\ttotal: 2.68s\tremaining: 10.7s\n",
      "40:\tlearn: 0.4232133\ttotal: 2.72s\tremaining: 10.5s\n",
      "41:\tlearn: 0.4222828\ttotal: 2.76s\tremaining: 10.4s\n",
      "42:\tlearn: 0.4214800\ttotal: 2.81s\tremaining: 10.2s\n",
      "43:\tlearn: 0.4209045\ttotal: 2.85s\tremaining: 10.1s\n",
      "44:\tlearn: 0.4203592\ttotal: 2.9s\tremaining: 9.98s\n",
      "45:\tlearn: 0.4198722\ttotal: 2.93s\tremaining: 9.82s\n",
      "46:\tlearn: 0.4193732\ttotal: 2.99s\tremaining: 9.72s\n",
      "47:\tlearn: 0.4184385\ttotal: 3.03s\tremaining: 9.59s\n",
      "48:\tlearn: 0.4179618\ttotal: 3.07s\tremaining: 9.46s\n",
      "49:\tlearn: 0.4174191\ttotal: 3.12s\tremaining: 9.36s\n",
      "50:\tlearn: 0.4169804\ttotal: 3.17s\tremaining: 9.27s\n",
      "51:\tlearn: 0.4162098\ttotal: 3.21s\tremaining: 9.15s\n",
      "52:\tlearn: 0.4157617\ttotal: 3.26s\tremaining: 9.04s\n",
      "53:\tlearn: 0.4153403\ttotal: 3.31s\tremaining: 8.96s\n",
      "54:\tlearn: 0.4149757\ttotal: 3.35s\tremaining: 8.85s\n",
      "55:\tlearn: 0.4142404\ttotal: 3.4s\tremaining: 8.74s\n",
      "56:\tlearn: 0.4138726\ttotal: 3.44s\tremaining: 8.64s\n",
      "57:\tlearn: 0.4134928\ttotal: 3.48s\tremaining: 8.52s\n",
      "58:\tlearn: 0.4128649\ttotal: 3.52s\tremaining: 8.43s\n",
      "59:\tlearn: 0.4125851\ttotal: 3.57s\tremaining: 8.34s\n",
      "60:\tlearn: 0.4122979\ttotal: 3.61s\tremaining: 8.23s\n",
      "61:\tlearn: 0.4120301\ttotal: 3.65s\tremaining: 8.13s\n",
      "62:\tlearn: 0.4117267\ttotal: 3.7s\tremaining: 8.04s\n",
      "63:\tlearn: 0.4114907\ttotal: 3.74s\tremaining: 7.95s\n",
      "64:\tlearn: 0.4112301\ttotal: 3.8s\tremaining: 7.9s\n",
      "65:\tlearn: 0.4108910\ttotal: 3.85s\tremaining: 7.81s\n",
      "66:\tlearn: 0.4105885\ttotal: 3.89s\tremaining: 7.72s\n",
      "67:\tlearn: 0.4103669\ttotal: 3.94s\tremaining: 7.64s\n",
      "68:\tlearn: 0.4100864\ttotal: 3.99s\tremaining: 7.58s\n",
      "69:\tlearn: 0.4098186\ttotal: 4.04s\tremaining: 7.5s\n",
      "70:\tlearn: 0.4095939\ttotal: 4.08s\tremaining: 7.42s\n",
      "71:\tlearn: 0.4093867\ttotal: 4.12s\tremaining: 7.33s\n",
      "72:\tlearn: 0.4091570\ttotal: 4.17s\tremaining: 7.25s\n",
      "73:\tlearn: 0.4089312\ttotal: 4.22s\tremaining: 7.18s\n",
      "74:\tlearn: 0.4087324\ttotal: 4.26s\tremaining: 7.11s\n",
      "75:\tlearn: 0.4084844\ttotal: 4.3s\tremaining: 7.02s\n",
      "76:\tlearn: 0.4080140\ttotal: 4.35s\tremaining: 6.95s\n",
      "77:\tlearn: 0.4078380\ttotal: 4.4s\tremaining: 6.88s\n",
      "78:\tlearn: 0.4076542\ttotal: 4.45s\tremaining: 6.82s\n",
      "79:\tlearn: 0.4071954\ttotal: 4.5s\tremaining: 6.75s\n",
      "80:\tlearn: 0.4070715\ttotal: 4.54s\tremaining: 6.68s\n",
      "81:\tlearn: 0.4067155\ttotal: 4.59s\tremaining: 6.61s\n",
      "82:\tlearn: 0.4065511\ttotal: 4.63s\tremaining: 6.53s\n",
      "83:\tlearn: 0.4063842\ttotal: 4.68s\tremaining: 6.46s\n",
      "84:\tlearn: 0.4060296\ttotal: 4.73s\tremaining: 6.39s\n",
      "85:\tlearn: 0.4059292\ttotal: 4.77s\tremaining: 6.32s\n",
      "86:\tlearn: 0.4057614\ttotal: 4.82s\tremaining: 6.26s\n",
      "87:\tlearn: 0.4055965\ttotal: 4.87s\tremaining: 6.2s\n",
      "88:\tlearn: 0.4054085\ttotal: 4.92s\tremaining: 6.14s\n",
      "89:\tlearn: 0.4052753\ttotal: 4.97s\tremaining: 6.07s\n",
      "90:\tlearn: 0.4050026\ttotal: 5.02s\tremaining: 6.01s\n",
      "91:\tlearn: 0.4047981\ttotal: 5.06s\tremaining: 5.94s\n",
      "92:\tlearn: 0.4047061\ttotal: 5.1s\tremaining: 5.87s\n",
      "93:\tlearn: 0.4045662\ttotal: 5.15s\tremaining: 5.81s\n",
      "94:\tlearn: 0.4044475\ttotal: 5.2s\tremaining: 5.74s\n",
      "95:\tlearn: 0.4043244\ttotal: 5.25s\tremaining: 5.68s\n",
      "96:\tlearn: 0.4042033\ttotal: 5.3s\tremaining: 5.62s\n",
      "97:\tlearn: 0.4041121\ttotal: 5.35s\tremaining: 5.57s\n",
      "98:\tlearn: 0.4040450\ttotal: 5.42s\tremaining: 5.53s\n",
      "99:\tlearn: 0.4039856\ttotal: 5.46s\tremaining: 5.46s\n",
      "100:\tlearn: 0.4036987\ttotal: 5.5s\tremaining: 5.4s\n",
      "101:\tlearn: 0.4036227\ttotal: 5.55s\tremaining: 5.33s\n",
      "102:\tlearn: 0.4034917\ttotal: 5.6s\tremaining: 5.28s\n",
      "103:\tlearn: 0.4033961\ttotal: 5.66s\tremaining: 5.23s\n",
      "104:\tlearn: 0.4032780\ttotal: 5.74s\tremaining: 5.19s\n",
      "105:\tlearn: 0.4030255\ttotal: 5.78s\tremaining: 5.13s\n",
      "106:\tlearn: 0.4027454\ttotal: 5.83s\tremaining: 5.07s\n",
      "107:\tlearn: 0.4026801\ttotal: 5.87s\tremaining: 5s\n",
      "108:\tlearn: 0.4025928\ttotal: 5.93s\tremaining: 4.96s\n",
      "109:\tlearn: 0.4024110\ttotal: 5.99s\tremaining: 4.9s\n",
      "110:\tlearn: 0.4023185\ttotal: 6.04s\tremaining: 4.84s\n",
      "111:\tlearn: 0.4022609\ttotal: 6.09s\tremaining: 4.78s\n",
      "112:\tlearn: 0.4020335\ttotal: 6.15s\tremaining: 4.73s\n",
      "113:\tlearn: 0.4019607\ttotal: 6.21s\tremaining: 4.68s\n",
      "114:\tlearn: 0.4019043\ttotal: 6.25s\tremaining: 4.62s\n",
      "115:\tlearn: 0.4018463\ttotal: 6.3s\tremaining: 4.56s\n",
      "116:\tlearn: 0.4015955\ttotal: 6.35s\tremaining: 4.5s\n",
      "117:\tlearn: 0.4014852\ttotal: 6.4s\tremaining: 4.45s\n",
      "118:\tlearn: 0.4013790\ttotal: 6.44s\tremaining: 4.39s\n",
      "119:\tlearn: 0.4012862\ttotal: 6.49s\tremaining: 4.33s\n",
      "120:\tlearn: 0.4012035\ttotal: 6.55s\tremaining: 4.28s\n",
      "121:\tlearn: 0.4010184\ttotal: 6.6s\tremaining: 4.22s\n",
      "122:\tlearn: 0.4009559\ttotal: 6.65s\tremaining: 4.17s\n",
      "123:\tlearn: 0.4008991\ttotal: 6.7s\tremaining: 4.11s\n",
      "124:\tlearn: 0.4007712\ttotal: 6.75s\tremaining: 4.05s\n",
      "125:\tlearn: 0.4007027\ttotal: 6.81s\tremaining: 4s\n",
      "126:\tlearn: 0.4006481\ttotal: 6.86s\tremaining: 3.94s\n",
      "127:\tlearn: 0.4005462\ttotal: 6.91s\tremaining: 3.88s\n",
      "128:\tlearn: 0.4004634\ttotal: 6.95s\tremaining: 3.83s\n",
      "129:\tlearn: 0.4002426\ttotal: 7s\tremaining: 3.77s\n",
      "130:\tlearn: 0.4001752\ttotal: 7.06s\tremaining: 3.72s\n",
      "131:\tlearn: 0.4001015\ttotal: 7.11s\tremaining: 3.66s\n",
      "132:\tlearn: 0.4000316\ttotal: 7.17s\tremaining: 3.61s\n",
      "133:\tlearn: 0.3999733\ttotal: 7.21s\tremaining: 3.55s\n",
      "134:\tlearn: 0.3999196\ttotal: 7.26s\tremaining: 3.5s\n",
      "135:\tlearn: 0.3998578\ttotal: 7.32s\tremaining: 3.44s\n",
      "136:\tlearn: 0.3998106\ttotal: 7.37s\tremaining: 3.39s\n",
      "137:\tlearn: 0.3997441\ttotal: 7.43s\tremaining: 3.34s\n",
      "138:\tlearn: 0.3997035\ttotal: 7.48s\tremaining: 3.28s\n",
      "139:\tlearn: 0.3996709\ttotal: 7.54s\tremaining: 3.23s\n",
      "140:\tlearn: 0.3995458\ttotal: 7.6s\tremaining: 3.18s\n",
      "141:\tlearn: 0.3994886\ttotal: 7.65s\tremaining: 3.13s\n",
      "142:\tlearn: 0.3994291\ttotal: 7.7s\tremaining: 3.07s\n",
      "143:\tlearn: 0.3993983\ttotal: 7.76s\tremaining: 3.02s\n",
      "144:\tlearn: 0.3993542\ttotal: 7.83s\tremaining: 2.97s\n",
      "145:\tlearn: 0.3992692\ttotal: 7.88s\tremaining: 2.92s\n",
      "146:\tlearn: 0.3991923\ttotal: 7.93s\tremaining: 2.86s\n",
      "147:\tlearn: 0.3991502\ttotal: 8.01s\tremaining: 2.81s\n",
      "148:\tlearn: 0.3990958\ttotal: 8.06s\tremaining: 2.76s\n",
      "149:\tlearn: 0.3989291\ttotal: 8.12s\tremaining: 2.71s\n",
      "150:\tlearn: 0.3988808\ttotal: 8.19s\tremaining: 2.66s\n",
      "151:\tlearn: 0.3988217\ttotal: 8.26s\tremaining: 2.61s\n",
      "152:\tlearn: 0.3987882\ttotal: 8.32s\tremaining: 2.56s\n",
      "153:\tlearn: 0.3987391\ttotal: 8.39s\tremaining: 2.5s\n",
      "154:\tlearn: 0.3986084\ttotal: 8.44s\tremaining: 2.45s\n",
      "155:\tlearn: 0.3985640\ttotal: 8.51s\tremaining: 2.4s\n",
      "156:\tlearn: 0.3985064\ttotal: 8.57s\tremaining: 2.35s\n",
      "157:\tlearn: 0.3984672\ttotal: 8.63s\tremaining: 2.29s\n",
      "158:\tlearn: 0.3983364\ttotal: 8.69s\tremaining: 2.24s\n",
      "159:\tlearn: 0.3982775\ttotal: 8.76s\tremaining: 2.19s\n",
      "160:\tlearn: 0.3982378\ttotal: 8.82s\tremaining: 2.14s\n",
      "161:\tlearn: 0.3982074\ttotal: 8.88s\tremaining: 2.08s\n",
      "162:\tlearn: 0.3981693\ttotal: 8.94s\tremaining: 2.03s\n",
      "163:\tlearn: 0.3981275\ttotal: 9.01s\tremaining: 1.98s\n",
      "164:\tlearn: 0.3980991\ttotal: 9.08s\tremaining: 1.93s\n",
      "165:\tlearn: 0.3980840\ttotal: 9.16s\tremaining: 1.88s\n",
      "166:\tlearn: 0.3979719\ttotal: 9.23s\tremaining: 1.82s\n",
      "167:\tlearn: 0.3979473\ttotal: 9.29s\tremaining: 1.77s\n",
      "168:\tlearn: 0.3978968\ttotal: 9.37s\tremaining: 1.72s\n",
      "169:\tlearn: 0.3978684\ttotal: 9.44s\tremaining: 1.67s\n",
      "170:\tlearn: 0.3978130\ttotal: 9.5s\tremaining: 1.61s\n",
      "171:\tlearn: 0.3977666\ttotal: 9.56s\tremaining: 1.56s\n",
      "172:\tlearn: 0.3976807\ttotal: 9.63s\tremaining: 1.5s\n",
      "173:\tlearn: 0.3976590\ttotal: 9.7s\tremaining: 1.45s\n",
      "174:\tlearn: 0.3976168\ttotal: 9.77s\tremaining: 1.4s\n",
      "175:\tlearn: 0.3975706\ttotal: 9.82s\tremaining: 1.34s\n",
      "176:\tlearn: 0.3975566\ttotal: 9.88s\tremaining: 1.28s\n",
      "177:\tlearn: 0.3975260\ttotal: 9.95s\tremaining: 1.23s\n",
      "178:\tlearn: 0.3975017\ttotal: 10s\tremaining: 1.18s\n",
      "179:\tlearn: 0.3974918\ttotal: 10.1s\tremaining: 1.12s\n",
      "180:\tlearn: 0.3974674\ttotal: 10.1s\tremaining: 1.06s\n",
      "181:\tlearn: 0.3973917\ttotal: 10.2s\tremaining: 1.01s\n",
      "182:\tlearn: 0.3973663\ttotal: 10.3s\tremaining: 954ms\n",
      "183:\tlearn: 0.3972992\ttotal: 10.3s\tremaining: 898ms\n",
      "184:\tlearn: 0.3972766\ttotal: 10.4s\tremaining: 841ms\n",
      "185:\tlearn: 0.3972661\ttotal: 10.5s\tremaining: 788ms\n",
      "186:\tlearn: 0.3972452\ttotal: 10.6s\tremaining: 734ms\n",
      "187:\tlearn: 0.3972209\ttotal: 10.6s\tremaining: 680ms\n",
      "188:\tlearn: 0.3971230\ttotal: 10.8s\tremaining: 626ms\n",
      "189:\tlearn: 0.3971069\ttotal: 10.9s\tremaining: 572ms\n",
      "190:\tlearn: 0.3970873\ttotal: 11s\tremaining: 518ms\n",
      "191:\tlearn: 0.3970458\ttotal: 11.1s\tremaining: 463ms\n",
      "192:\tlearn: 0.3969673\ttotal: 11.2s\tremaining: 407ms\n",
      "193:\tlearn: 0.3969305\ttotal: 11.4s\tremaining: 351ms\n",
      "194:\tlearn: 0.3968473\ttotal: 11.5s\tremaining: 294ms\n",
      "195:\tlearn: 0.3968241\ttotal: 11.6s\tremaining: 237ms\n",
      "196:\tlearn: 0.3967997\ttotal: 11.7s\tremaining: 179ms\n",
      "197:\tlearn: 0.3967784\ttotal: 11.8s\tremaining: 119ms\n",
      "198:\tlearn: 0.3967199\ttotal: 11.9s\tremaining: 60ms\n",
      "199:\tlearn: 0.3967021\ttotal: 12s\tremaining: 0us\n"
     ]
    }
   ],
   "source": [
    "from catboost import CatBoostClassifier\n",
    "\n",
    "# adjust data for catboost classifier\n",
    "x_train['material_handling'] = x_train['material_handling'].astype(str)\n",
    "x_train = x_train.drop(columns=['origin_port_coord', 'logistic_hub_coord', 'customer_coord'])\n",
    "x_test['material_handling'] = x_test['material_handling'].astype(str)\n",
    "x_test = x_test.drop(columns=['origin_port_coord', 'logistic_hub_coord', 'customer_coord'])\n",
    "\n",
    "#choose categorical features\n",
    "cat_features = ['3pl', 'customs_procedures', 'material_handling', 'origin_port', 'logistic_hub', 'customer', 'product_id']\n",
    "model = CatBoostClassifier(iterations=200,\n",
    "                           learning_rate=0.1,\n",
    "                           depth=3)\n",
    "\n",
    "#train the model\n",
    "model.fit(x_train, y_train, cat_features)\n",
    "\n",
    "#predict on the test data\n",
    "preds_proba = model.predict_proba(x_test)"
   ],
   "metadata": {
    "collapsed": false
   }
  },
  {
   "cell_type": "code",
   "execution_count": 9,
   "outputs": [
    {
     "data": {
      "text/plain": "array([[0.93691633, 0.06308367],\n       [0.90126979, 0.09873021],\n       [0.7227818 , 0.2772182 ],\n       ...,\n       [0.92446981, 0.07553019],\n       [0.5272059 , 0.4727941 ],\n       [0.734033  , 0.265967  ]])"
     },
     "execution_count": 9,
     "metadata": {},
     "output_type": "execute_result"
    }
   ],
   "source": [
    "preds_proba"
   ],
   "metadata": {
    "collapsed": false
   }
  },
  {
   "cell_type": "code",
   "execution_count": 7,
   "outputs": [],
   "source": [
    "# Save predictions to CSV\n",
    "submission = pd.DataFrame({\"order_id\": df_test.order_id, \"late_order\": preds_proba[:,1]})\n",
    "submission.to_csv(\"final.csv\", index=False)"
   ],
   "metadata": {
    "collapsed": false
   }
  },
  {
   "cell_type": "code",
   "execution_count": 17,
   "outputs": [],
   "source": [
    "importances = model.get_feature_importance()"
   ],
   "metadata": {
    "collapsed": false
   }
  },
  {
   "cell_type": "code",
   "execution_count": 19,
   "outputs": [
    {
     "name": "stdout",
     "output_type": "stream",
     "text": [
      "     3pl customs_procedures material_handling  units  weight  product_id  \\\n",
      "0  v_002                DTP               5.0    583  1778.0     1692723   \n",
      "1  v_004                CRF               3.0    459  1088.0     1644308   \n",
      "2  v_002                CRF               4.0    464   505.0     1684170   \n",
      "3  v_004                CRF               4.0    678  1308.0     1620510   \n",
      "4  v_002                CRF               0.0    353  1465.0     1699372   \n",
      "\n",
      "  origin_port logistic_hub   customer  distance_1  distance_2  \n",
      "0   Rotterdam        Venlo  Marseille    130.0459    902.0420  \n",
      "1   Rotterdam         Rome  Marseille   1269.2365    604.0216  \n",
      "2      Athens        Venlo      Paris   2029.5726    392.9249  \n",
      "3   Rotterdam        Lille      Milan    173.9644    733.8784  \n",
      "4   Barcelona        Venlo     Berlin   1153.4178    512.8188  \n"
     ]
    }
   ],
   "source": [
    "print(x_train.head())"
   ],
   "metadata": {
    "collapsed": false
   }
  },
  {
   "cell_type": "code",
   "execution_count": 33,
   "metadata": {
    "execution": {
     "iopub.execute_input": "2022-11-11T12:21:55.201806Z",
     "iopub.status.busy": "2022-11-11T12:21:55.201235Z",
     "iopub.status.idle": "2022-11-11T12:21:55.264849Z",
     "shell.execute_reply": "2022-11-11T12:21:55.263262Z",
     "shell.execute_reply.started": "2022-11-11T12:21:55.201757Z"
    },
    "papermill": {
     "duration": 0.047754,
     "end_time": "2022-11-11T08:46:51.627348",
     "exception": false,
     "start_time": "2022-11-11T08:46:51.579594",
     "status": "completed"
    },
    "tags": []
   },
   "outputs": [
    {
     "data": {
      "text/plain": "<Figure size 720x576 with 1 Axes>",
      "image/png": "[encoded data removed]"
     },
     "metadata": {
      "needs_background": "light"
     },
     "output_type": "display_data"
    }
   ],
   "source": [
    "feature_dict = {'Feature': list(x_train), 'Importance': importances}\n",
    "df_features = pd.DataFrame(feature_dict)\n",
    "df_features = df_features.sort_values(by=['Importance'], ascending=False)\n",
    "plt.figure(figsize=(10, 8))\n",
    "sns.barplot(y=df_features['Feature'], x=df_features['Importance'], color='#263f6b')\n",
    "plt.title('Feature Importances')\n",
    "plt.savefig(\"./importances.png\")\n",
    "plt.show()"
   ]
  },
  {
   "cell_type": "code",
   "execution_count": 23,
   "outputs": [
    {
     "data": {
      "text/plain": "               Feature  Importance\n0                  3pl    4.459360\n1   customs_procedures    3.633896\n2    material_handling    0.064845\n3                units   18.365711\n4               weight   21.671056\n5           product_id   23.301207\n6          origin_port   11.542335\n7         logistic_hub    5.822244\n8             customer    3.181712\n9           distance_1    5.811999\n10          distance_2    2.145637",
      "text/html": "<div>\n<style scoped>\n    .dataframe tbody tr th:only-of-type {\n        vertical-align: middle;\n    }\n\n    .dataframe tbody tr th {\n        vertical-align: top;\n    }\n\n    .dataframe thead th {\n        text-align: right;\n    }\n</style>\n<table border=\"1\" class=\"dataframe\">\n  <thead>\n    <tr style=\"text-align: right;\">\n      <th></th>\n      <th>Feature</th>\n      <th>Importance</th>\n    </tr>\n  </thead>\n  <tbody>\n    <tr>\n      <th>0</th>\n      <td>3pl</td>\n      <td>4.459360</td>\n    </tr>\n    <tr>\n      <th>1</th>\n      <td>customs_procedures</td>\n      <td>3.633896</td>\n    </tr>\n    <tr>\n      <th>2</th>\n      <td>material_handling</td>\n      <td>0.064845</td>\n    </tr>\n    <tr>\n      <th>3</th>\n      <td>units</td>\n      <td>18.365711</td>\n    </tr>\n    <tr>\n      <th>4</th>\n      <td>weight</td>\n      <td>21.671056</td>\n    </tr>\n    <tr>\n      <th>5</th>\n      <td>product_id</td>\n      <td>23.301207</td>\n    </tr>\n    <tr>\n      <th>6</th>\n      <td>origin_port</td>\n      <td>11.542335</td>\n    </tr>\n    <tr>\n      <th>7</th>\n      <td>logistic_hub</td>\n      <td>5.822244</td>\n    </tr>\n    <tr>\n      <th>8</th>\n      <td>customer</td>\n      <td>3.181712</td>\n    </tr>\n    <tr>\n      <th>9</th>\n      <td>distance_1</td>\n      <td>5.811999</td>\n    </tr>\n    <tr>\n      <th>10</th>\n      <td>distance_2</td>\n      <td>2.145637</td>\n    </tr>\n  </tbody>\n</table>\n</div>"
     },
     "execution_count": 23,
     "metadata": {},
     "output_type": "execute_result"
    }
   ],
   "source": [
    "df_features"
   ],
   "metadata": {
    "collapsed": false
   }
  },
  {
   "cell_type": "code",
   "execution_count": null,
   "outputs": [],
   "source": [
    "\n",
    "\n"
   ],
   "metadata": {
    "collapsed": false
   }
  }
 ],
 "metadata": {
  "kernelspec": {
   "display_name": "Python 3 (ipykernel)",
   "language": "python",
   "name": "python3"
  },
  "language_info": {
   "codemirror_mode": {
    "name": "ipython",
    "version": 3
   },
   "file_extension": ".py",
   "mimetype": "text/x-python",
   "name": "python",
   "nbconvert_exporter": "python",
   "pygments_lexer": "ipython3",
   "version": "3.9.7"
  }
 },
 "nbformat": 4,
 "nbformat_minor": 4
}
